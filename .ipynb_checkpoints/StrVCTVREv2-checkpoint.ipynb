{
 "cells": [
  {
   "cell_type": "markdown",
   "metadata": {
    "deletable": true,
    "editable": true
   },
   "source": [
    "# This notebook annotates input file SVs using StrVCTVRE\n",
    "For a vcf entry to be annotated, it must have an END tag and a SVTYPE tag. Only exonic deletions and duplications will be annotated. Must be in GRCh38. Only annotates autosomes, X, and Y."
   ]
  },
  {
   "cell_type": "code",
   "execution_count": 23,
   "metadata": {
    "collapsed": false,
    "deletable": true,
    "editable": true
   },
   "outputs": [],
   "source": [
    "# may need to put each of these in it's own statement, throw an error if fails\n",
    "import sys\n",
    "import numpy as np\n",
    "import pandas as pd\n",
    "import pybedtools\n",
    "from cyvcf2 import VCF,Writer\n",
    "import annotationFinalForStrVCTVRE\n",
    "from joblib import dump, load\n",
    "import argparse\n",
    "import tempfile\n",
    "import shutil\n",
    "import os"
   ]
  },
  {
   "cell_type": "code",
   "execution_count": 24,
   "metadata": {
    "collapsed": false,
    "deletable": true,
    "editable": true
   },
   "outputs": [],
   "source": [
    "parser = argparse.ArgumentParser(description='Annotate the pathogenicity of exonic deletions and duplications in GRCh38.')\n",
    "parser.add_argument('-i','--input',help='Input file path',required=True,metavar = '/path/to/input/file',dest='pathIn')\n",
    "parser.add_argument('-o','--output',help='Output file path',required=True,metavar = '/path/to/output/file',dest='pathOut')\n",
    "parser.add_argument('-f','--format',help='Input file format, either vcf or bed, defaults to vcf when not provided',choices=['vcf','bed'],dest='formatIn',default='vcf')\n",
    "parser.add_argument('-p','--phyloP',help='phyloP file path, defaults to \\'data/hg38.phyloP100way.bw\\' when not provided',default='data/hg38.phyloP100way.bw',\n",
    "                    metavar = 'path/to/hg38.phyloP100way.bw',dest='phylopPath')\n",
    "#parser.add_argument('-a','--assembly',help='Genome assembly, either GRCh38 or GRCh37',choices=['GRCh37','GRCh38'])\n",
    "args = parser.parse_args()\n",
    "#args = parser.parse_args('-i /data/andrewsharo-S/thesis/Aim1/test.vcf -o /data/andrewsharo-S/thesis/Aim1/testAnnotated.vcf -p /data/andrewsharo-S/thesis/Aim1/hg38.phyloP100way.bw -f vcf'.split())\n",
    "#args = parser.parse_args('-i /data/andrewsharo-S/thesis/Aim1/test.bed -o /data/andrewsharo-S/thesis/Aim1/testAnnotated.bed -p /data/andrewsharo-S/thesis/Aim1/hg38.phyloP100way.bw -f bed'.split())"
   ]
  },
  {
   "cell_type": "markdown",
   "metadata": {},
   "source": [
    "Create temporary directory to store files created, deleted after finished running"
   ]
  },
  {
   "cell_type": "code",
   "execution_count": 25,
   "metadata": {
    "collapsed": true
   },
   "outputs": [],
   "source": [
    "td = tempfile.mkdtemp(prefix='StrVCTVRE.',suffix='.tmp')"
   ]
  },
  {
   "cell_type": "markdown",
   "metadata": {
    "deletable": true,
    "editable": true
   },
   "source": [
    "read VCF or BED into one large csv file"
   ]
  },
  {
   "cell_type": "code",
   "execution_count": 26,
   "metadata": {
    "collapsed": false,
    "deletable": true,
    "editable": true,
    "scrolled": true
   },
   "outputs": [
    {
     "name": "stdout",
     "output_type": "stream",
     "text": [
      "\n",
      "reading BED...\n",
      "\n"
     ]
    }
   ],
   "source": [
    "# if VCF\n",
    "if args.formatIn == 'vcf':\n",
    "    print('\\nreading VCF...\\n')\n",
    "    toDf = []\n",
    "    for var in VCF(args.pathIn,gts012=True):\n",
    "        if var.INFO.get('END') and var.INFO.get('SVTYPE'):\n",
    "            entry = np.array([var.CHROM, var.POS, var.INFO['END'], var.INFO['SVTYPE']])\n",
    "            toDf.append(entry)\n",
    "    df = pd.DataFrame(toDf,columns=['chrom','start','end','svtype'])\n",
    "\n",
    "#if BED    \n",
    "else:\n",
    "    print('\\nreading BED...\\n')\n",
    "    toDf = []\n",
    "    df = pd.read_csv(args.pathIn,sep='\\t',names=['chrom','start','end','svtype'],header=None)\n",
    "    "
   ]
  },
  {
   "cell_type": "markdown",
   "metadata": {
    "deletable": true,
    "editable": true
   },
   "source": [
    "Change formatting, keep only dels and dups"
   ]
  },
  {
   "cell_type": "code",
   "execution_count": 27,
   "metadata": {
    "collapsed": false,
    "deletable": true,
    "editable": true
   },
   "outputs": [
    {
     "name": "stdout",
     "output_type": "stream",
     "text": [
      "\n",
      "formatting VCF data...\n",
      "\n"
     ]
    }
   ],
   "source": [
    "print('\\nformatting VCF data...\\n')\n",
    "\n",
    "# make old index so we can annotate SVs rapidly at the end\n",
    "df['OldID'] = pd.Series(df.index.values)\n",
    "\n",
    "# check that the chroms all have chr in front\n",
    "if sum(df['chrom'].str.startswith('chr',na=False))/df.shape[0] < 0.5:\n",
    "    df['chrom'] = 'chr' + df['chrom'].astype(str)\n",
    "\n",
    "acceptedChroms = ['chr1','chr2','chr3','chr4','chr5','chr6','chr7','chr8','chr9','chr10','chr11','chr12','chr13',\n",
    "                 'chr14','chr15','chr16','chr17','chr18','chr19','chr20','chr21','chr22','chrX','chrY']\n",
    "# keep only autosomes, X, and Y \n",
    "df = df[df['chrom'].isin(acceptedChroms)].copy()\n",
    "validChrom = df.copy()\n",
    "validChrom['validChrom'] = True\n",
    "\n",
    "# remove all start and end values that are not numeric\n",
    "df = df[pd.to_numeric(df['start'], errors='coerce').notnull()].copy()\n",
    "df = df[pd.to_numeric(df['end'], errors='coerce').notnull()].copy()\n",
    "# convert from string to float (relevant to vcf only)\n",
    "df['start'] = df['start'].astype(float)\n",
    "df['end'] = df['end'].astype(float)\n",
    "# check all start and end values are integers\n",
    "df = df[df['start'] == df['start'] // 1]\n",
    "df = df[df['end'] == df['end'] // 1]\n",
    "df['start'] = df['start'].astype(int)\n",
    "df['end'] = df['end'].astype(int)\n",
    "validStartEnd = df.copy()\n",
    "\n",
    "# keep only SVs 50bp or longer\n",
    "df['length'] = df['end'].astype(int) - df['start'].astype(int)\n",
    "df = df[df['length'] > 49].copy()\n",
    "validLength = df.copy()\n",
    "validLength['validLength'] = True\n",
    "\n",
    "# keep only deletions and duplications\n",
    "df = df[((df['svtype'] == 'DEL') | (df['svtype'] == 'DUP'))].copy()\n",
    "validSVType = df.copy()\n",
    "validSVType['validSVType'] = True\n",
    "df['DEL'] = df['svtype'] == 'DEL'"
   ]
  },
  {
   "cell_type": "markdown",
   "metadata": {
    "deletable": true,
    "editable": true
   },
   "source": [
    "Determine how many exons overlap each variant"
   ]
  },
  {
   "cell_type": "code",
   "execution_count": 28,
   "metadata": {
    "collapsed": false
   },
   "outputs": [
    {
     "data": {
      "text/html": [
       "<div>\n",
       "<style scoped>\n",
       "    .dataframe tbody tr th:only-of-type {\n",
       "        vertical-align: middle;\n",
       "    }\n",
       "\n",
       "    .dataframe tbody tr th {\n",
       "        vertical-align: top;\n",
       "    }\n",
       "\n",
       "    .dataframe thead th {\n",
       "        text-align: right;\n",
       "    }\n",
       "</style>\n",
       "<table border=\"1\" class=\"dataframe\">\n",
       "  <thead>\n",
       "    <tr style=\"text-align: right;\">\n",
       "      <th></th>\n",
       "      <th>chrom</th>\n",
       "      <th>start</th>\n",
       "      <th>end</th>\n",
       "      <th>svtype</th>\n",
       "      <th>OldID</th>\n",
       "      <th>length</th>\n",
       "      <th>DEL</th>\n",
       "    </tr>\n",
       "  </thead>\n",
       "  <tbody>\n",
       "    <tr>\n",
       "      <th>2</th>\n",
       "      <td>chr2</td>\n",
       "      <td>237016000</td>\n",
       "      <td>237360000</td>\n",
       "      <td>DUP</td>\n",
       "      <td>2</td>\n",
       "      <td>344000</td>\n",
       "      <td>False</td>\n",
       "    </tr>\n",
       "    <tr>\n",
       "      <th>5</th>\n",
       "      <td>chr8</td>\n",
       "      <td>50000000</td>\n",
       "      <td>50000055</td>\n",
       "      <td>DUP</td>\n",
       "      <td>5</td>\n",
       "      <td>55</td>\n",
       "      <td>False</td>\n",
       "    </tr>\n",
       "    <tr>\n",
       "      <th>6</th>\n",
       "      <td>chr8</td>\n",
       "      <td>50000000</td>\n",
       "      <td>53000000</td>\n",
       "      <td>DEL</td>\n",
       "      <td>6</td>\n",
       "      <td>3000000</td>\n",
       "      <td>True</td>\n",
       "    </tr>\n",
       "    <tr>\n",
       "      <th>7</th>\n",
       "      <td>chr13</td>\n",
       "      <td>32318222</td>\n",
       "      <td>32319952</td>\n",
       "      <td>DEL</td>\n",
       "      <td>7</td>\n",
       "      <td>1730</td>\n",
       "      <td>True</td>\n",
       "    </tr>\n",
       "  </tbody>\n",
       "</table>\n",
       "</div>"
      ],
      "text/plain": [
       "   chrom      start        end svtype  OldID   length    DEL\n",
       "2   chr2  237016000  237360000    DUP      2   344000  False\n",
       "5   chr8   50000000   50000055    DUP      5       55  False\n",
       "6   chr8   50000000   53000000    DEL      6  3000000   True\n",
       "7  chr13   32318222   32319952    DEL      7     1730   True"
      ]
     },
     "execution_count": 28,
     "metadata": {},
     "output_type": "execute_result"
    }
   ],
   "source": [
    "df"
   ]
  },
  {
   "cell_type": "code",
   "execution_count": 29,
   "metadata": {
    "collapsed": false,
    "deletable": true,
    "editable": true
   },
   "outputs": [
    {
     "name": "stdout",
     "output_type": "stream",
     "text": [
      "\n",
      "identifying exonic deletions and duplications...\n",
      "\n"
     ]
    }
   ],
   "source": [
    "print('\\nidentifying exonic deletions and duplications...\\n')\n",
    "\n",
    "exons = pybedtools.BedTool('data/exons_Appris_featurized_transcript_Chr1-Y_loeuf.sorted.bed')\n",
    "df[['chrom','start','end','OldID']].to_csv(os.path.join(td,'svs.bed'),sep='\\t', index=False,header=False)\n",
    "a = pybedtools.BedTool(os.path.join(td,'svs.bed'))\n",
    "b = a.intersect(exons, wa=True, wb=True).saveas(os.path.join(td,'svsExonOverlap.bed'))\n",
    "exonOverlap = pd.read_csv(os.path.join(td,'svsExonOverlap.bed'), sep='\\t', header=None, usecols=[0,1,2,3],\n",
    "                          names=['chrom', 'start', 'stop', 'OldID'])\n",
    "exonOverlap['numExons'] = exonOverlap.groupby(by='OldID').chrom.transform('size') # choice of chrom column here is arbitrary\n",
    "exonOverlap.drop_duplicates(subset='OldID', inplace=True)"
   ]
  },
  {
   "cell_type": "markdown",
   "metadata": {
    "deletable": true,
    "editable": true
   },
   "source": [
    "Drop variants that overlap no exons"
   ]
  },
  {
   "cell_type": "code",
   "execution_count": 30,
   "metadata": {
    "collapsed": false,
    "deletable": true,
    "editable": true
   },
   "outputs": [],
   "source": [
    "out = df.merge(exonOverlap[['numExons','OldID']],how='left',on='OldID')\n",
    "out = out[out['numExons'] > 0]\n",
    "validExon = out.set_index('OldID').copy()\n",
    "validExon['validExon'] = True\n",
    "# only annotate vars less than 3Mb\n",
    "out = out[out['length'] < 3000000]"
   ]
  },
  {
   "cell_type": "code",
   "execution_count": 31,
   "metadata": {
    "collapsed": false,
    "deletable": true,
    "editable": true
   },
   "outputs": [
    {
     "data": {
      "text/html": [
       "<div>\n",
       "<style scoped>\n",
       "    .dataframe tbody tr th:only-of-type {\n",
       "        vertical-align: middle;\n",
       "    }\n",
       "\n",
       "    .dataframe tbody tr th {\n",
       "        vertical-align: top;\n",
       "    }\n",
       "\n",
       "    .dataframe thead th {\n",
       "        text-align: right;\n",
       "    }\n",
       "</style>\n",
       "<table border=\"1\" class=\"dataframe\">\n",
       "  <thead>\n",
       "    <tr style=\"text-align: right;\">\n",
       "      <th></th>\n",
       "      <th>chrom</th>\n",
       "      <th>start</th>\n",
       "      <th>end</th>\n",
       "      <th>svtype</th>\n",
       "      <th>length</th>\n",
       "      <th>DEL</th>\n",
       "      <th>numExons</th>\n",
       "      <th>validExon</th>\n",
       "    </tr>\n",
       "    <tr>\n",
       "      <th>OldID</th>\n",
       "      <th></th>\n",
       "      <th></th>\n",
       "      <th></th>\n",
       "      <th></th>\n",
       "      <th></th>\n",
       "      <th></th>\n",
       "      <th></th>\n",
       "      <th></th>\n",
       "    </tr>\n",
       "  </thead>\n",
       "  <tbody>\n",
       "    <tr>\n",
       "      <th>2</th>\n",
       "      <td>chr2</td>\n",
       "      <td>237016000</td>\n",
       "      <td>237360000</td>\n",
       "      <td>DUP</td>\n",
       "      <td>344000</td>\n",
       "      <td>False</td>\n",
       "      <td>35.0</td>\n",
       "      <td>True</td>\n",
       "    </tr>\n",
       "    <tr>\n",
       "      <th>6</th>\n",
       "      <td>chr8</td>\n",
       "      <td>50000000</td>\n",
       "      <td>53000000</td>\n",
       "      <td>DEL</td>\n",
       "      <td>3000000</td>\n",
       "      <td>True</td>\n",
       "      <td>104.0</td>\n",
       "      <td>True</td>\n",
       "    </tr>\n",
       "    <tr>\n",
       "      <th>7</th>\n",
       "      <td>chr13</td>\n",
       "      <td>32318222</td>\n",
       "      <td>32319952</td>\n",
       "      <td>DEL</td>\n",
       "      <td>1730</td>\n",
       "      <td>True</td>\n",
       "      <td>1.0</td>\n",
       "      <td>True</td>\n",
       "    </tr>\n",
       "  </tbody>\n",
       "</table>\n",
       "</div>"
      ],
      "text/plain": [
       "       chrom      start        end svtype   length    DEL  numExons  validExon\n",
       "OldID                                                                         \n",
       "2       chr2  237016000  237360000    DUP   344000  False      35.0       True\n",
       "6       chr8   50000000   53000000    DEL  3000000   True     104.0       True\n",
       "7      chr13   32318222   32319952    DEL     1730   True       1.0       True"
      ]
     },
     "execution_count": 31,
     "metadata": {},
     "output_type": "execute_result"
    }
   ],
   "source": [
    "validExon"
   ]
  },
  {
   "cell_type": "code",
   "execution_count": 32,
   "metadata": {
    "collapsed": false,
    "deletable": true,
    "editable": true
   },
   "outputs": [],
   "source": [
    "out[['chrom','start','end','OldID','DEL']].to_csv(os.path.join(td,'svsForAnnotation.csv'))"
   ]
  },
  {
   "cell_type": "markdown",
   "metadata": {
    "deletable": true,
    "editable": true
   },
   "source": [
    "Score each variant"
   ]
  },
  {
   "cell_type": "code",
   "execution_count": 33,
   "metadata": {
    "collapsed": false,
    "deletable": true,
    "editable": true
   },
   "outputs": [
    {
     "name": "stdout",
     "output_type": "stream",
     "text": [
      "\n",
      "scoring exonic deletions and duplications...\n",
      "\n"
     ]
    }
   ],
   "source": [
    "print('\\nscoring exonic deletions and duplications...\\n')\n",
    "annotationFinalForStrVCTVRE.annotateSVs(os.path.join(td,'svsForAnnotation.csv'), os.path.join(td,'svsAnnotated.csv'), args.phylopPath, td)"
   ]
  },
  {
   "cell_type": "code",
   "execution_count": 34,
   "metadata": {
    "collapsed": false,
    "deletable": true,
    "editable": true
   },
   "outputs": [],
   "source": [
    "an = pd.read_csv(os.path.join(td,'svsAnnotated.csv'))"
   ]
  },
  {
   "cell_type": "code",
   "execution_count": 35,
   "metadata": {
    "collapsed": false,
    "deletable": true,
    "editable": true
   },
   "outputs": [],
   "source": [
    "# annotate SVs on each chromosome, using random forest trained on all other chroms, to avoid overfitting\n",
    "an['path'] = 0\n",
    "presentChroms = an['chrom'].value_counts().index.values\n",
    "for chrm in presentChroms:\n",
    "    rf = load('data/rfTrainedOnAllExcept'+chrm+'.joblib')\n",
    "    X = an[an['chrom'] == chrm][['DEL','numExonsFinal','phyloP', 'lowestExonRank', 'allSkippable','lowestExonsInGene', 'anyConstExon','pLIMax','loeufMin', 'cdsFracStartMin', 'cdsFracEndMax', 'cdsFracMax', 'pLI_max25_ID', 'loeuf_min25_ID','topExp','topUsage','maxStrength']].copy()\n",
    "    an.loc[an['chrom'] == chrm,'path'] = rf.predict_proba(X)[:,1]"
   ]
  },
  {
   "cell_type": "code",
   "execution_count": 36,
   "metadata": {
    "collapsed": false,
    "deletable": true,
    "editable": true
   },
   "outputs": [],
   "source": [
    "an.set_index('OldID', inplace=True)"
   ]
  },
  {
   "cell_type": "markdown",
   "metadata": {
    "deletable": true,
    "editable": true
   },
   "source": [
    "Annotate vcf with StrVCTVRE pathogenicity scores"
   ]
  },
  {
   "cell_type": "code",
   "execution_count": 42,
   "metadata": {
    "collapsed": false,
    "deletable": true,
    "editable": true
   },
   "outputs": [
    {
     "name": "stdout",
     "output_type": "stream",
     "text": [
      "\n",
      "writing annotated BED...\n",
      "\n"
     ]
    }
   ],
   "source": [
    "if args.formatIn == 'vcf':\n",
    "    print('\\nwriting annotated VCF...\\n')\n",
    "\n",
    "    vcf = VCF(args.pathIn)\n",
    "    vcf.add_info_to_header({'ID':'StrVCTVRE','Description':'pathogenicity score for structural variants','Type':'Float','Number':'1'})\n",
    "\n",
    "    w = Writer(args.pathOut,vcf)\n",
    "\n",
    "    count = 0\n",
    "    for var in vcf:\n",
    "        if var.INFO.get('END') and var.INFO.get('SVTYPE'):\n",
    "            if count in an.index:\n",
    "                var.INFO['StrVCTVRE'] = str(round(an.loc[count,'path'],3))\n",
    "            elif count in validExon.index:\n",
    "                var.INFO['StrVCTVRE'] = '1.0'\n",
    "            elif count in validSVType.index:\n",
    "                var.INFO['StrVCTVRE'] = 'not_exonic'\n",
    "            elif count in validLength.index:\n",
    "                var.INFO['StrVCTVRE'] = 'not_dup_or_del'    \n",
    "            elif count in validStartEnd.index:\n",
    "                var.INFO['StrVCTVRE'] = 'less_than_50bp'\n",
    "            elif count in validChrom.index:\n",
    "                var.INFO['StrVCTVRE'] = 'invalid_start_or_end'\n",
    "            else:\n",
    "                var.INFO['StrVCTVRE'] = 'not_valid_chrom'\n",
    "            count += 1\n",
    "        else:\n",
    "            var.INFO['StrVCTVRE'] = 'missing_END_or_SVTYPE'\n",
    "        w.write_record(var)\n",
    "    w.close();\n",
    "    vcf.close()\n",
    "    \n",
    "else:\n",
    "    print('\\nwriting annotated BED...\\n')\n",
    "\n",
    "    #bed = pd.read_csv(args.pathIn, sep='\\t', names=['chrom','start','end','svtype'], header=None,dtype = {'chrom':str,'start':int,'end':int,'svtype':str})\n",
    "    f = open(args.pathIn)\n",
    "    outf = open(args.pathOut,'w')\n",
    "    idx=0\n",
    "    for row in [x.strip() for x in f.readlines()]:\n",
    "        if idx in an.index:\n",
    "            score = str(round(an.loc[idx,'path'],3))\n",
    "        elif idx in validExon.index:\n",
    "            score = '1.0'\n",
    "        elif idx in validSVType.index:\n",
    "            score = 'not_exonic'\n",
    "        elif idx in validLength.index:\n",
    "            score = 'not_dup_or_del'   \n",
    "        elif idx in validStartEnd.index:\n",
    "            score = 'less_than_50bp'\n",
    "        elif idx in validChrom.index:\n",
    "            score = 'invalid_start_or_end'\n",
    "        else:\n",
    "            score = 'not_valid_chrom'\n",
    "        outf.write(row + '\\t' + str(score) + '\\n')\n",
    "        idx += 1\n",
    "    f.close()\n",
    "    outf.close();"
   ]
  },
  {
   "cell_type": "markdown",
   "metadata": {},
   "source": [
    "delete temporary files"
   ]
  },
  {
   "cell_type": "code",
   "execution_count": 43,
   "metadata": {
    "collapsed": true
   },
   "outputs": [],
   "source": [
    "shutil.rmtree(td)"
   ]
  },
  {
   "cell_type": "code",
   "execution_count": 44,
   "metadata": {
    "collapsed": false,
    "deletable": true,
    "editable": true
   },
   "outputs": [
    {
     "name": "stdout",
     "output_type": "stream",
     "text": [
      "\n",
      "Finished\n",
      "\n"
     ]
    }
   ],
   "source": [
    "print('\\nFinished\\n')"
   ]
  },
  {
   "cell_type": "code",
   "execution_count": null,
   "metadata": {
    "collapsed": true
   },
   "outputs": [],
   "source": []
  }
 ],
 "metadata": {
  "kernelspec": {
   "display_name": "Python 2",
   "language": "python",
   "name": "python2"
  },
  "language_info": {
   "codemirror_mode": {
    "name": "ipython",
    "version": 2
   },
   "file_extension": ".py",
   "mimetype": "text/x-python",
   "name": "python",
   "nbconvert_exporter": "python",
   "pygments_lexer": "ipython2",
   "version": "2.7.15"
  }
 },
 "nbformat": 4,
 "nbformat_minor": 2
}
